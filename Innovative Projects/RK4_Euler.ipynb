{
 "cells": [
  {
   "cell_type": "code",
   "execution_count": null,
   "metadata": {},
   "outputs": [],
   "source": [
    "import numpy as np               # Numerical Python\n",
    "import matplotlib.pyplot as plt  # Graph and Plot handling\n",
    "import time                      # Time Measure"
   ]
  },
  {
   "cell_type": "code",
   "execution_count": null,
   "metadata": {},
   "outputs": [],
   "source": [
    "# A quick implementation of Euler's Method for solving\n",
    "# the above Initial Value Problem\n",
    "\n",
    "# Try adjusting 'N' to see how the numerical solution converges\n",
    "\n",
    "t0   = 0.0\n",
    "tN   = 10.0\n",
    "N    = 15\n",
    "t    = np.linspace(t0,tN,N)\n",
    "x_Eu = np.zeros(N) ## Euler\n",
    "h    = (tN-t0)/N\n",
    "\n",
    "# Initial condition:\n",
    "x_Eu[0] = 0\n",
    "\n",
    "for n in range(0,N-1):\n",
    "    x_Eu[n+1] = x_Eu[n] + h * (np.cos(x_Eu[n]) + np.sin(t[n]))\n",
    "\n",
    "plt.figure(figsize=(10,6))\n",
    "plt.plot(t,x_Eu,'-ro',linewidth=3.0, label=r'Euler')\n",
    "plt.ylabel(r'Dimensionless position, $x(t)$')\n",
    "plt.xlabel(r'Dimensionless time, $t$')\n",
    "plt.legend(loc=4) # 'loc' sets the location of the legend-text in the plot \n",
    "plt.grid()\n",
    "plt.show()"
   ]
  },
  {
   "cell_type": "code",
   "execution_count": null,
   "metadata": {},
   "outputs": [],
   "source": [
    "x_4RK = np.zeros(N) ## Runge-Kutta\n",
    "\n",
    "def g(x_,t_):\n",
    "    return np.cos(x_) + np.sin(t_)\n",
    "\n",
    "for n in range(0,N-1):\n",
    "    k1 = h*g( x_4RK[n]       , t[n]         )\n",
    "    k2 = h*g( x_4RK[n] + k1/2, t[n] + (h/2) ) \n",
    "    k3 = h*g( x_4RK[n] + k2/2, t[n] + (h/2) ) \n",
    "    k4 = h*g( x_4RK[n] + k3  , t[n] +  h    )\n",
    "    \n",
    "    x_4RK[n+1] = x_4RK[n] + k1/6 + k2/3 + k3/3 + k4/6\n",
    "    \n",
    "plt.figure(figsize=(10,6))\n",
    "plt.plot(t,x_Eu, '-ro' , linewidth=3.0,label=r'Euler')\n",
    "plt.plot(t,x_4RK,':bo' , linewidth=3.0,label=r'4th order Runge-Kutta')\n",
    "plt.ylabel(r'Dimensionless position, $x(t)$')\n",
    "plt.xlabel(r'Dimensionless time, $t$')\n",
    "plt.title(r'Stepsize, $N$ = %i' % N)\n",
    "plt.legend(loc=4) \n",
    "plt.show()\n"
   ]
  }
 ],
 "metadata": {
  "kernelspec": {
   "display_name": "Python 3",
   "language": "python",
   "name": "python3"
  },
  "language_info": {
   "codemirror_mode": {
    "name": "ipython",
    "version": 3
   },
   "file_extension": ".py",
   "mimetype": "text/x-python",
   "name": "python",
   "nbconvert_exporter": "python",
   "pygments_lexer": "ipython3",
   "version": "3.8.3"
  }
 },
 "nbformat": 4,
 "nbformat_minor": 4
}
